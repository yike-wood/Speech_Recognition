{
 "cells": [
  {
   "cell_type": "code",
   "execution_count": null,
   "metadata": {},
   "outputs": [],
   "source": [
    "from utilities import *"
   ]
  },
  {
   "cell_type": "code",
   "execution_count": null,
   "metadata": {},
   "outputs": [],
   "source": [
    "pathname = \"recds_yg/\"\n",
    "filenames = []\n",
    "for root, dirs, files in os.walk(pathname):\n",
    "    for name in files:     \n",
    "        filename = pathname + name\n",
    "        filenames.append(filename)\n",
    "            \n",
    "hmm_digit = get_hmm_digits(filenames)"
   ]
  },
  {
   "cell_type": "code",
   "execution_count": null,
   "metadata": {},
   "outputs": [],
   "source": [
    "num_filter = 40\n",
    "num_states = 5\n",
    "num_digits = 7"
   ]
  },
  {
   "cell_type": "code",
   "execution_count": null,
   "metadata": {},
   "outputs": [],
   "source": [
    "## hmm_digit: 10 hmms for one digit recognized\n",
    "## change transition_matrix \n",
    "for i in range(len(hmm_digit)):\n",
    "    hmm_digit[i].transition_matrix[num_states-1][num_states-1] = 0.5"
   ]
  },
  {
   "cell_type": "code",
   "execution_count": null,
   "metadata": {},
   "outputs": [],
   "source": [
    "## non emitting state\n",
    "class neState:\n",
    "    def __init__(self,id,transition_prob=0.5,parent=None,next=None):\n",
    "        self.id = id\n",
    "        self.transition_prob = transition_prob\n",
    "        self.parent = parent ## prev as a list of state4\n",
    "        self.next = next ## next as a list of state0"
   ]
  },
  {
   "cell_type": "code",
   "execution_count": null,
   "metadata": {},
   "outputs": [],
   "source": [
    "\n",
    "## assign name to state\n",
    "hmm_digits = []\n",
    "for i in range(7):\n",
    "    if i == 0:\n",
    "        hmm_di = copy.deepcopy(hmm_digit[2:])\n",
    "        for j in range(len(hmm_di)):\n",
    "            hmm = hmm_di[j]\n",
    "            for k in range(len(hmm.states)):\n",
    "                hmm.states[k].name = num2words(j+2)\n",
    "        \n",
    "    else:\n",
    "        hmm_di = copy.deepcopy(hmm_digit)\n",
    "        for j in range(len(hmm_di)):\n",
    "            hmm = hmm_di[j]\n",
    "            for k in range(len(hmm.states)):\n",
    "                hmm.states[k].name = num2words(j)\n",
    "        \n",
    "     \n",
    "    hmm_digits.append(hmm_di)"
   ]
  },
  {
   "cell_type": "code",
   "execution_count": null,
   "metadata": {},
   "outputs": [],
   "source": [
    "## nonemiting states list\n",
    "nonemitingStates = []\n",
    "for i in range(num_digits+1):\n",
    "    nonemitingState = neState(id=i)\n",
    "    #print(nonemitingState)\n",
    "    nonemitingStates.append(nonemitingState)\n",
    "    "
   ]
  },
  {
   "cell_type": "code",
   "execution_count": null,
   "metadata": {},
   "outputs": [],
   "source": [
    "## reconstruct and add nonemitting state\n",
    "## assign .parent and .next to state\n",
    "## assign transition prob to state\n",
    "\n",
    "for i in range(len(hmm_digits)):\n",
    "    nonemitingState_prev = nonemitingStates[i]\n",
    "    nonemitingState_post = nonemitingStates[i+1]\n",
    "    hmm_digit= hmm_digits[i]\n",
    "    \n",
    "    for j in range(len(hmm_digit)):\n",
    "        hmm = hmm_digit[j]\n",
    "        transition_matrix = hmm.transition_matrix\n",
    "        for k in range(len(hmm.states)):\n",
    "            if k == 0:\n",
    "                ## parent: nonemitting + self\n",
    "                parent1 = (nonemitingState_prev,1)\n",
    "                parent2 = (hmm.states[k],transition_matrix[k][k])   \n",
    "                ## child: next + self\n",
    "                children1 = (hmm.states[k+1],transition_matrix[k][k+1])\n",
    "                children2 = (hmm.states[k],transition_matrix[k][k])\n",
    "            elif k == num_states-1:\n",
    "                ## parent: prev + self\n",
    "                parent1 = (hmm.states[k-1],transition_matrix[k-1][k])\n",
    "                parent2 = (hmm.states[k],transition_matrix[k][k]) \n",
    "                ## children: nonemitting + self\n",
    "                children1 = (nonemitingState_post,0.5)\n",
    "                children2 = (hmm.states[k],transition_matrix[k][k])\n",
    "            else:\n",
    "                ## parent: prev + self\n",
    "                parent1 = (hmm.states[k-1],transition_matrix[k-1][k])\n",
    "                parent2 = (hmm.states[k],transition_matrix[k][k]) \n",
    "                ## children: next + self\n",
    "                children1 = (hmm.states[k+1],transition_matrix[k][k+1])\n",
    "                children2 = (hmm.states[k],transition_matrix[k][k])\n",
    "            hmm.states[k].parent = [parent1,parent2]\n",
    "            hmm.states[k].next = [children1,children2]\n"
   ]
  },
  {
   "cell_type": "code",
   "execution_count": null,
   "metadata": {},
   "outputs": [],
   "source": [
    "## add nonemiting state\n",
    "\n",
    "## case when nonemitingstate0\n",
    "child = []\n",
    "nonemitingState0 = nonemitingStates[0]\n",
    "hmm_digit0 = hmm_digits[0]  \n",
    "hmm_digit3 = hmm_digits[3]\n",
    "for i in range(len(hmm_digit0)):\n",
    "    child.append(hmm_digit0[i].states[0])\n",
    "for j in range(len(hmm_digit3)):\n",
    "    child.append(hmm_digit3[j].states[0])\n",
    "nonemitingState0.next = child\n",
    "\n",
    "for i in range(1,len(nonemitingStates)):\n",
    "    nonemitingState = nonemitingStates[i]\n",
    "    ## connect last state of previous hmm_digit and nonemitting state\n",
    "    hmm_digit_prev = hmm_digits[i-1]\n",
    "    parents = []\n",
    "    for j in range(len(hmm_digit_prev)):\n",
    "        parents.append(hmm_digit_prev[j].states[num_states-1])\n",
    "    nonemitingState.parent = parents\n",
    "    ## connect nonemitting state and first state of next hmm_digit\n",
    "    if i != 7:\n",
    "        hmm_digit_post = hmm_digits[i]\n",
    "        child = [] \n",
    "        for k in range(len(hmm_digit_post)):\n",
    "            child.append(hmm_digit_post[k].states[0])\n",
    "        nonemitingState.next = child\n",
    "        \n"
   ]
  },
  {
   "cell_type": "code",
   "execution_count": null,
   "metadata": {},
   "outputs": [],
   "source": [
    "## build tree\n",
    "states = []\n",
    "cnt = -2\n",
    "for i in range(len(nonemitingStates)):\n",
    "    cur_neState = nonemitingStates[i]\n",
    "    cnt += 1\n",
    "    cur_neState.id = cnt\n",
    "    states.append(cur_neState)\n",
    "    if i != 7:\n",
    "        hmm_digit = hmm_digits[i]\n",
    "        for j in range(len(hmm_digit)):\n",
    "            hmm = hmm_digit[j]\n",
    "            for k in range(len(hmm.states)):\n",
    "                cnt += 1\n",
    "                hmm.states[k].id = cnt\n",
    "                states.append(hmm.states[k])"
   ]
  },
  {
   "cell_type": "code",
   "execution_count": null,
   "metadata": {},
   "outputs": [],
   "source": [
    "nonemitingState_ids = []\n",
    "for i in range(len(nonemitingStates)):\n",
    "    nonemitingState_ids.append(nonemitingStates[i].id)"
   ]
  },
  {
   "cell_type": "code",
   "execution_count": null,
   "metadata": {},
   "outputs": [],
   "source": [
    "nonemitingState_ids"
   ]
  },
  {
   "cell_type": "code",
   "execution_count": null,
   "metadata": {},
   "outputs": [],
   "source": [
    "## states without nonemitingstate0\n",
    "states = states[1:]\n",
    "len(states)"
   ]
  },
  {
   "cell_type": "code",
   "execution_count": null,
   "metadata": {},
   "outputs": [],
   "source": [
    "states[0]"
   ]
  },
  {
   "cell_type": "code",
   "execution_count": null,
   "metadata": {},
   "outputs": [],
   "source": [
    "nonemitingStates[0].next[-1].id"
   ]
  },
  {
   "cell_type": "code",
   "execution_count": null,
   "metadata": {},
   "outputs": [],
   "source": [
    "## children of nonemitingstate0\n",
    "childNonemitingstate0 = []\n",
    "for i in range(len(nonemitingStates[0].next)):\n",
    "    childid = nonemitingStates[0].next[i].id\n",
    "    childNonemitingstate0.append(childid)\n",
    "    "
   ]
  },
  {
   "cell_type": "code",
   "execution_count": null,
   "metadata": {},
   "outputs": [],
   "source": [
    "childNonemitingstate0"
   ]
  },
  {
   "cell_type": "code",
   "execution_count": 162,
   "metadata": {},
   "outputs": [],
   "source": [
    "testfile = 'record.wav'\n",
    "test = mfcc_features(testfile,num_filter)"
   ]
  },
  {
   "cell_type": "code",
   "execution_count": 163,
   "metadata": {},
   "outputs": [
    {
     "data": {
      "text/plain": [
       "True"
      ]
     },
     "execution_count": 163,
     "metadata": {},
     "output_type": "execute_result"
    }
   ],
   "source": [
    "type(states[0]) == State"
   ]
  },
  {
   "cell_type": "code",
   "execution_count": 167,
   "metadata": {},
   "outputs": [
    {
     "data": {
      "text/plain": [
       "27"
      ]
     },
     "execution_count": 167,
     "metadata": {},
     "output_type": "execute_result"
    }
   ],
   "source": [
    "len(test)"
   ]
  },
  {
   "cell_type": "code",
   "execution_count": 169,
   "metadata": {},
   "outputs": [],
   "source": [
    "## dtw alignment\n",
    "back_pointer_table = np.zeros((len(states),len(test)))\n",
    "cost = np.zeros((len(states))) + np.inf\n",
    "for j in range(len(test)):\n",
    "    \n",
    "    prev_cost = copy.deepcopy(cost)\n",
    "    \n",
    "    for i in range(len(states)):\n",
    "        state = states[i]\n",
    "        \n",
    "        ## initialization\n",
    "        ## if state is children of nonemittingState0\n",
    "        ## start with hmm_digit0 and hmm_digit 3\n",
    "        if j == 0:\n",
    "            if state.id in childNonemitingstate0:\n",
    "                cost[i] = get_node_cost(test[j],state)\n",
    "                back_pointer_table[i][j] = state.id\n",
    "        \n",
    "        else: \n",
    "            ## if state is State\n",
    "            if type(state) == State:\n",
    "                \n",
    "                ## if state0 of each hmm\n",
    "                if (type(state.parent[0][0]) == neState):\n",
    "                    \n",
    "                    ## hmm_digit0 cannot inherit nonemmitingstate0\n",
    "                    if state.parent[0][0].id != -1:\n",
    "                    \n",
    "                        ## pathcost: cost from previous nonemitting state\n",
    "                        ## no edge cost due to nonemiting\n",
    "                        pathcost = prev_cost[state.parent[0][0].id]\n",
    "\n",
    "                        local_node_cost = get_node_cost(test[j],state)\n",
    "                        \n",
    "                        cost[i] = pathcost + local_node_cost\n",
    "                    \n",
    "                        back_pointer_table[i][j] = state.parent[0][0].id\n",
    "                    \n",
    "                    ## state0 of hmm_digit0\n",
    "                    else:\n",
    "                        \n",
    "                     \n",
    "                ## normal state   \n",
    "                else:\n",
    "                    ## pathcost1: from parent\n",
    "                    pathcost1 = prev_cost[state.parent[0][0].id]\n",
    "                    edgecost1 = -np.log(state.parent[0][1])\n",
    "                    dist1 = pathcost1 + edgecost1\n",
    "                    ## pathcost2: from self-transition\n",
    "                    pathcost2 = prev_cost[state.parent[1][0].id]\n",
    "                    edgecost2 = -np.log(state.parent[1][1])\n",
    "                    dist2 = pathcost2 + edgecost2\n",
    "                    \n",
    "                    ## compare & assign\n",
    "                    cost[i] = np.min([dist1,dist2]) + get_node_cost(test[j],state)\n",
    "                    back_pointer_table[i][j] = state.parent[np.argmin([dist1,dist2])][0].id\n",
    "                \n",
    "                \n",
    "            ## if state is nonemitting state\n",
    "            else:\n",
    "                ## select the min of 10 hmm in hmm_digit\n",
    "                combinedcost = []\n",
    "                ## cost of each 10 hmm\n",
    "                for k in range(len(state.parent)):\n",
    "                    costtmp = prev_cost[state.parent[k].id]\n",
    "                    combinedcost.append(costtmp)\n",
    "                cost[i] = np.min(combinedcost)\n",
    "                back_pointer_table[i][j] = state.parent[np.argmin(combinedcost)].id\n",
    "    "
   ]
  },
  {
   "cell_type": "code",
   "execution_count": 170,
   "metadata": {},
   "outputs": [
    {
     "data": {
      "text/plain": [
       "array([[  0.,   0.,   0., ...,   0.,   0.,   0.],\n",
       "       [  0.,   0.,   1., ...,   1.,   0.,   0.],\n",
       "       [  0.,   1.,   1., ...,   2.,   2.,   1.],\n",
       "       ...,\n",
       "       [  0., 343., 343., ..., 343., 343., 343.],\n",
       "       [  0., 344., 344., ..., 345., 344., 345.],\n",
       "       [  0., 300., 300., ..., 310., 305., 335.]])"
      ]
     },
     "execution_count": 170,
     "metadata": {},
     "output_type": "execute_result"
    }
   ],
   "source": []
  },
  {
   "cell_type": "code",
   "execution_count": 172,
   "metadata": {},
   "outputs": [],
   "source": [
    "## trace back\n",
    "state_id = len(states) - 1\n",
    "state_ids = [state_id]\n",
    "for j in range(len(test)-1,0,-1):\n",
    "    state_id = int(back_pointer_table[state_id][j])\n",
    "    state_ids.append(state_id)\n",
    "state_ids = state_ids[::-1]"
   ]
  },
  {
   "cell_type": "code",
   "execution_count": 175,
   "metadata": {},
   "outputs": [],
   "source": [
    "names = []\n",
    "for state_id in state_ids:\n",
    "    if state_id not in nonemitingState_ids:\n",
    "        state = states[state_id]\n",
    "        name = state.name\n",
    "        names.append(name)"
   ]
  },
  {
   "cell_type": "code",
   "execution_count": 177,
   "metadata": {},
   "outputs": [
    {
     "data": {
      "text/plain": [
       "23"
      ]
     },
     "execution_count": 177,
     "metadata": {},
     "output_type": "execute_result"
    }
   ],
   "source": [
    "len(names)"
   ]
  },
  {
   "cell_type": "code",
   "execution_count": null,
   "metadata": {},
   "outputs": [],
   "source": [
    "nonemitingStates[7].parent"
   ]
  }
 ],
 "metadata": {
  "kernelspec": {
   "display_name": "base",
   "language": "python",
   "name": "python3"
  },
  "language_info": {
   "codemirror_mode": {
    "name": "ipython",
    "version": 3
   },
   "file_extension": ".py",
   "mimetype": "text/x-python",
   "name": "python",
   "nbconvert_exporter": "python",
   "pygments_lexer": "ipython3",
   "version": "3.9.12"
  },
  "orig_nbformat": 4,
  "vscode": {
   "interpreter": {
    "hash": "e690ffd8c1d6fdc0815e238049d2af358133c86708e8eaee3d63d05e307f9cc6"
   }
  }
 },
 "nbformat": 4,
 "nbformat_minor": 2
}
