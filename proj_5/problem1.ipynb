{
 "cells": [
  {
   "cell_type": "code",
   "execution_count": 1,
   "metadata": {},
   "outputs": [],
   "source": [
    "from utilities import *"
   ]
  },
  {
   "cell_type": "code",
   "execution_count": 2,
   "metadata": {},
   "outputs": [],
   "source": [
    "pathname = \"recds_yg/\"\n",
    "filenames = []\n",
    "for root, dirs, files in os.walk(pathname):\n",
    "    for name in files:     \n",
    "        filename = pathname + name\n",
    "        filenames.append(filename)\n",
    "            \n",
    "hmm_digit = get_hmm_digits(filenames)"
   ]
  },
  {
   "cell_type": "code",
   "execution_count": 3,
   "metadata": {},
   "outputs": [],
   "source": [
    "num_filter = 40\n",
    "num_states = 5\n",
    "num_digits = 7"
   ]
  },
  {
   "cell_type": "code",
   "execution_count": 4,
   "metadata": {},
   "outputs": [],
   "source": [
    "## hmm_digit: 10 hmms for one digit recognized\n",
    "## change transition_matrix \n",
    "for i in range(len(hmm_digit)):\n",
    "    hmm_digit[i].transition_matrix[num_states-1][num_states-1] = 0.5"
   ]
  },
  {
   "cell_type": "code",
   "execution_count": 5,
   "metadata": {},
   "outputs": [],
   "source": [
    "## non emitting state\n",
    "class neState:\n",
    "    def __init__(self,id,transition_prob=0.5,parent=None,next=None):\n",
    "        self.id = id\n",
    "        self.transition_prob = transition_prob\n",
    "        self.parent = parent ## prev as a list of state4\n",
    "        self.next = next ## next as a list of state0"
   ]
  },
  {
   "cell_type": "code",
   "execution_count": 6,
   "metadata": {},
   "outputs": [],
   "source": [
    "## assign name to state\n",
    "hmm_digits = []\n",
    "for i in range(7):\n",
    "    if i == 0:\n",
    "        hmm_di = copy.deepcopy(hmm_digit[2:])\n",
    "    else:\n",
    "        hmm_di = copy.deepcopy(hmm_digit)\n",
    "    \n",
    "    for j in range(len(hmm_di)):\n",
    "        hmm = hmm_di[j]\n",
    "        for k in range(len(hmm.states)):\n",
    "            hmm.states[k].name = -j    \n",
    "    hmm_digits.append(hmm_di)"
   ]
  },
  {
   "cell_type": "code",
   "execution_count": 7,
   "metadata": {},
   "outputs": [
    {
     "data": {
      "text/plain": [
       "-4"
      ]
     },
     "execution_count": 7,
     "metadata": {},
     "output_type": "execute_result"
    }
   ],
   "source": [
    "hmm_digits[3][4].states[2].name"
   ]
  },
  {
   "cell_type": "code",
   "execution_count": 8,
   "metadata": {},
   "outputs": [
    {
     "data": {
      "text/plain": [
       "-4"
      ]
     },
     "execution_count": 8,
     "metadata": {},
     "output_type": "execute_result"
    }
   ],
   "source": [
    "hmm_digits[6][4].states[4].name"
   ]
  },
  {
   "cell_type": "code",
   "execution_count": 9,
   "metadata": {},
   "outputs": [],
   "source": [
    "## nonemiting states list\n",
    "nonemitingStates = []\n",
    "for i in range(num_digits+1):\n",
    "    nonemitingState = neState(id=i)\n",
    "    #print(nonemitingState)\n",
    "    nonemitingStates.append(nonemitingState)\n",
    "    "
   ]
  },
  {
   "cell_type": "code",
   "execution_count": 11,
   "metadata": {},
   "outputs": [],
   "source": [
    "## reconstruct and add nonemitting state\n",
    "## assign .parent and .next to state\n",
    "## assign transition prob to state\n",
    "\n",
    "for i in range(len(hmm_digits)):\n",
    "    nonemitingState_prev = nonemitingStates[i]\n",
    "    nonemitingState_post = nonemitingStates[i+1]\n",
    "    hmm_digit= hmm_digits[i]\n",
    "    \n",
    "    for j in range(len(hmm_digit)):\n",
    "        hmm = hmm_digit[j]\n",
    "        transition_matrix = hmm.transition_matrix\n",
    "        for k in range(len(hmm.states)):\n",
    "            if k == 0:\n",
    "                ## parent: nonemitting + self\n",
    "                parent1 = (nonemitingState_prev,1)\n",
    "                parent2 = (hmm.states[k],transition_matrix[k][k])   \n",
    "                ## child: next + self\n",
    "                children1 = (hmm.states[k+1],transition_matrix[k][k+1])\n",
    "                children2 = (hmm.states[k],transition_matrix[k][k])\n",
    "            elif k == num_states-1:\n",
    "                ## parent: prev + self\n",
    "                parent1 = (hmm.states[k-1],transition_matrix[k-1][k])\n",
    "                parent2 = (hmm.states[k],transition_matrix[k][k]) \n",
    "                ## children: nonemitting + self\n",
    "                children1 = (nonemitingState_post,0.5)\n",
    "                children2 = (hmm.states[k],transition_matrix[k][k])\n",
    "            else:\n",
    "                ## parent: prev + self\n",
    "                parent1 = (hmm.states[k-1],transition_matrix[k-1][k])\n",
    "                parent2 = (hmm.states[k],transition_matrix[k][k]) \n",
    "                ## children: next + self\n",
    "                children1 = (hmm.states[k+1],transition_matrix[k][k+1])\n",
    "                children2 = (hmm.states[k],transition_matrix[k][k])\n",
    "            hmm.states[k].parent = [parent1,parent2]\n",
    "            hmm.states[k].next = [children1,children2]\n"
   ]
  },
  {
   "cell_type": "code",
   "execution_count": 12,
   "metadata": {},
   "outputs": [],
   "source": [
    "## add nonemiting state\n",
    "nonemitingState0 = nonemitingStates[0]\n",
    "child = []\n",
    "for i in range(len(hmm_digits[0])):\n",
    "    child.append(hmm_digits[0][i].states[0])\n",
    "child.append(nonemitingStates[3])\n",
    "nonemitingState0.next = child\n",
    "\n",
    "for i in range(1,len(nonemitingStates)):\n",
    "    nonemitingState = nonemitingStates[i]\n",
    "    ## connect last state of previous hmm_digit and nonemitting state\n",
    "    hmm_digit_prev = hmm_digits[i-1]\n",
    "    parents = []\n",
    "    for j in range(len(hmm_digit_prev)):\n",
    "        parents.append(hmm_digit_prev[j].states[num_states-1])\n",
    "    nonemitingState.parent = parents\n",
    "    ## connect nonemitting state and first state of next hmm_digit\n",
    "    if i != 7:\n",
    "        hmm_digit_post = hmm_digits[i]\n",
    "        child = [] \n",
    "        for k in range(len(hmm_digit_post)):\n",
    "            child.append(hmm_digit_post[k].states[0])\n",
    "        nonemitingState.next = child\n",
    "        \n",
    "## special case for nonemitingstate3\n",
    "nonemitingState3 = nonemitingStates[3]\n",
    "parents = nonemitingState3.parent\n",
    "parents.append(nonemitingState0)\n",
    "nonemitingState3.parent = parents"
   ]
  },
  {
   "cell_type": "code",
   "execution_count": 13,
   "metadata": {},
   "outputs": [
    {
     "data": {
      "text/plain": [
       "[<utilities.State at 0x7f82ebfe0370>,\n",
       " <utilities.State at 0x7f82ebfe04c0>,\n",
       " <utilities.State at 0x7f82ebfe0610>,\n",
       " <utilities.State at 0x7f82ebfe0760>,\n",
       " <utilities.State at 0x7f82ebfe08b0>,\n",
       " <utilities.State at 0x7f82ebfe0a00>,\n",
       " <utilities.State at 0x7f82ebfe0b50>,\n",
       " <utilities.State at 0x7f82ebfe0ca0>,\n",
       " <utilities.State at 0x7f82ebfe0df0>,\n",
       " <utilities.State at 0x7f82ebfe0f40>]"
      ]
     },
     "execution_count": 13,
     "metadata": {},
     "output_type": "execute_result"
    }
   ],
   "source": [
    "nonemitingStates[6].next"
   ]
  },
  {
   "cell_type": "code",
   "execution_count": 16,
   "metadata": {},
   "outputs": [
    {
     "data": {
      "text/plain": [
       "<__main__.neState at 0x7f82ebfbe4c0>"
      ]
     },
     "execution_count": 16,
     "metadata": {},
     "output_type": "execute_result"
    }
   ],
   "source": [
    "nonemitingStates[6]"
   ]
  },
  {
   "cell_type": "code",
   "execution_count": 14,
   "metadata": {},
   "outputs": [
    {
     "data": {
      "text/plain": [
       "[(<__main__.neState at 0x7f82ebfbe4c0>, 1),\n",
       " (<utilities.State at 0x7f82ebfe0f40>, 0.8387096774193549)]"
      ]
     },
     "execution_count": 14,
     "metadata": {},
     "output_type": "execute_result"
    }
   ],
   "source": [
    "hmm_digits[6][9].states[0].parent"
   ]
  },
  {
   "cell_type": "code",
   "execution_count": 17,
   "metadata": {},
   "outputs": [
    {
     "data": {
      "text/plain": [
       "[<utilities.State at 0x7f82ebfe0370>,\n",
       " <utilities.State at 0x7f82ebfe04c0>,\n",
       " <utilities.State at 0x7f82ebfe0610>,\n",
       " <utilities.State at 0x7f82ebfe0760>,\n",
       " <utilities.State at 0x7f82ebfe08b0>,\n",
       " <utilities.State at 0x7f82ebfe0a00>,\n",
       " <utilities.State at 0x7f82ebfe0b50>,\n",
       " <utilities.State at 0x7f82ebfe0ca0>,\n",
       " <utilities.State at 0x7f82ebfe0df0>,\n",
       " <utilities.State at 0x7f82ebfe0f40>]"
      ]
     },
     "execution_count": 17,
     "metadata": {},
     "output_type": "execute_result"
    }
   ],
   "source": [
    "hmm_digits[6][9].states[0].parent[0][0].next"
   ]
  },
  {
   "cell_type": "code",
   "execution_count": 18,
   "metadata": {},
   "outputs": [],
   "source": [
    "## build tree\n",
    "states = []\n",
    "cnt = -1\n",
    "for i in range(len(nonemitingStates)):\n",
    "    cur_neState = nonemitingStates[i]\n",
    "    cnt += 1\n",
    "    cur_neState.id = cnt\n",
    "    states.append(cur_neState)\n",
    "    if i != 7:\n",
    "        hmm_digit = hmm_digits[i]\n",
    "        for j in range(len(hmm_digit)):\n",
    "            hmm = hmm_digit[j]\n",
    "            for k in range(len(hmm.states)):\n",
    "                cnt += 1\n",
    "                hmm.states[k].id = cnt\n",
    "                states.append(hmm.states[k])"
   ]
  },
  {
   "cell_type": "code",
   "execution_count": 24,
   "metadata": {},
   "outputs": [
    {
     "data": {
      "text/plain": [
       "301"
      ]
     },
     "execution_count": 24,
     "metadata": {},
     "output_type": "execute_result"
    }
   ],
   "source": [
    "states[300].next[0][0].id"
   ]
  },
  {
   "cell_type": "code",
   "execution_count": 19,
   "metadata": {},
   "outputs": [
    {
     "data": {
      "text/plain": [
       "[(<utilities.State at 0x7f82ebecad90>, 0.19230769230769232),\n",
       " (<utilities.State at 0x7f82ebecaa90>, 0.8076923076923077)]"
      ]
     },
     "execution_count": 19,
     "metadata": {},
     "output_type": "execute_result"
    }
   ],
   "source": [
    "states[7].next"
   ]
  },
  {
   "cell_type": "code",
   "execution_count": 23,
   "metadata": {},
   "outputs": [
    {
     "data": {
      "text/plain": [
       "7"
      ]
     },
     "execution_count": 23,
     "metadata": {},
     "output_type": "execute_result"
    }
   ],
   "source": [
    "states[7].next[1][0].id"
   ]
  },
  {
   "cell_type": "code",
   "execution_count": 21,
   "metadata": {},
   "outputs": [
    {
     "data": {
      "text/plain": [
       "143"
      ]
     },
     "execution_count": 21,
     "metadata": {},
     "output_type": "execute_result"
    }
   ],
   "source": [
    "states.index(nonemitingStates[3])"
   ]
  }
 ],
 "metadata": {
  "kernelspec": {
   "display_name": "base",
   "language": "python",
   "name": "python3"
  },
  "language_info": {
   "codemirror_mode": {
    "name": "ipython",
    "version": 3
   },
   "file_extension": ".py",
   "mimetype": "text/x-python",
   "name": "python",
   "nbconvert_exporter": "python",
   "pygments_lexer": "ipython3",
   "version": "3.9.12"
  },
  "orig_nbformat": 4,
  "vscode": {
   "interpreter": {
    "hash": "e690ffd8c1d6fdc0815e238049d2af358133c86708e8eaee3d63d05e307f9cc6"
   }
  }
 },
 "nbformat": 4,
 "nbformat_minor": 2
}
